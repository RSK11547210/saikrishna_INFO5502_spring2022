{
  "nbformat": 4,
  "nbformat_minor": 0,
  "metadata": {
    "colab": {
      "name": "Assign_Lab1.ipynb",
      "provenance": [],
      "collapsed_sections": [],
      "authorship_tag": "ABX9TyPO/YUlFxddJqe/b4gcSkz0",
      "include_colab_link": true
    },
    "kernelspec": {
      "name": "python3",
      "display_name": "Python 3"
    },
    "language_info": {
      "name": "python"
    }
  },
  "cells": [
    {
      "cell_type": "markdown",
      "metadata": {
        "id": "view-in-github",
        "colab_type": "text"
      },
      "source": [
        "<a href=\"https://colab.research.google.com/github/RSK11547210/saikrishna_INFO5502_spring2022/blob/main/Assign_Lab1.ipynb\" target=\"_parent\"><img src=\"https://colab.research.google.com/assets/colab-badge.svg\" alt=\"Open In Colab\"/></a>"
      ]
    },
    {
      "cell_type": "code",
      "execution_count": null,
      "metadata": {
        "id": "xoFNLyUCkt_r"
      },
      "outputs": [],
      "source": [
        "#1st answer \n",
        "sample_str = \"google.com\"\n",
        "#empty Dictonary\n",
        "char_rept = {}\n",
        "\n",
        "#if a element is already present then it's value is incremented by one otherwise it was set to one.\n",
        "for i in sample_str:\n",
        "    if i in char_rept:\n",
        "        char_rept[i] =char_rept[i] + 1\n",
        "    else:\n",
        "        char_rept[i] = 1\n",
        "#printing the output        \n",
        "print(\"Occurances of character in a string are: \" + str(char_rept))"
      ]
    },
    {
      "cell_type": "code",
      "source": [
        "#2nd Answer\n",
        "sample_list = [1,2,3,4,5,6]\n",
        "\n",
        "sum_sample = sum(sample_list)\n",
        "print(sum_sample)"
      ],
      "metadata": {
        "id": "ikZW0qJGk7pU"
      },
      "execution_count": null,
      "outputs": []
    },
    {
      "cell_type": "code",
      "source": [
        "#4th Answer\n",
        "a = int(input(\"Enter value 'a': \"))\n",
        "b = int(input(\"Enter value 'b': \")) \n",
        "\n",
        "S = 3.14 * (1 + a/b)**3\n",
        "print(S)"
      ],
      "metadata": {
        "id": "s0kaCmPSlaUh"
      },
      "execution_count": null,
      "outputs": []
    },
    {
      "cell_type": "code",
      "source": [
        "#5th Answer\n",
        "dic1={1:10, 2:20}\n",
        "dic2={3:30, 4:40}\n",
        "dic3={5:50, 6:60}\n",
        "\n",
        "dic4={}\n",
        "dic4.update(dic1)\n",
        "dic4.update(dic2)\n",
        "dic4.update(dic3)\n",
        "\n",
        "print(dic4)"
      ],
      "metadata": {
        "id": "zs4Bzn5umBvS"
      },
      "execution_count": null,
      "outputs": []
    },
    {
      "cell_type": "code",
      "source": [
        "#6th Answer \n",
        "sample_tuple = (1,2,3,4,5,'a','b','c','d','e')\n",
        "a= len(sample_tuple)\n",
        "check_element = input(\"Enter a number or alphabet to check if it exists in a tuple: \")\n",
        "\n",
        "for i in range(1,a):\n",
        "    if check_element in sample_tuple:\n",
        "        print(\"Element exist:\",True)\n",
        "        break\n",
        "    else:\n",
        "        print(\"Element doesnt't exist so, Try again!!!!\")\n",
        "        check_element = input(\"Enter a number or alphabet to check if it exists in a tuple: \")"
      ],
      "metadata": {
        "id": "Ms2Oj9rvmGgR"
      },
      "execution_count": null,
      "outputs": []
    },
    {
      "cell_type": "code",
      "source": [
        "#7th answer \n",
        "sample_set = {10,20,30,40,50}\n",
        "\n",
        "max_sample = max(sample_set)\n",
        "print(\"Maximum value in the given set:\", max_sample)\n",
        "\n",
        "min_sample = min(sample_set)\n",
        "print(\"Maximum value in the given set:\", min_sample)"
      ],
      "metadata": {
        "id": "r_kTOM8gmLnX"
      },
      "execution_count": null,
      "outputs": []
    },
    {
      "cell_type": "code",
      "source": [
        "#8th Answer \n",
        "# write your answer here\n",
        "student_list = ['ja0964','sa1198','sb1357','vb0218','sc1229','kg0569','kg0470','sg1297','bg0320','fh0141','jl1252','sk1386',\n",
        "           'ak0956','sk1390','sk1458','sk1313','ak0934','vm0377','nm0618','sm1640','sm1907','gn0108','pr0353','dr0609','ms1500','aos0040','ds0814', 'av0659','nv0234','hy0232']\n",
        "\n",
        "studnet_list1=set(studnet_list)\n",
        "updated_list=list(studnet_list1)\n",
        "group1=studnet_list[:5:]\n",
        "group2=studnet_list[5:10:]\n",
        "group3=studnet_list[10:15:]\n",
        "group4=studnet_list[15:20:]\n",
        "group5=studnet_list[20:25:]\n",
        "group6=studnet_list[25:30:]\n",
        "\n",
        "print(group1)\n",
        "print(group2)\n",
        "print(group3)\n",
        "print(group4)\n",
        "print(group5)\n",
        "print(group6)"
      ],
      "metadata": {
        "id": "ol82bRTHmQMJ"
      },
      "execution_count": null,
      "outputs": []
    },
    {
      "cell_type": "code",
      "source": [
        "#9th Answer \n",
        "def find_first_duplicate(values):\n",
        "    sample_set = set()\n",
        "    \n",
        "    for i in range(len(values)):\n",
        "        if values[i] in sample_set:\n",
        "           return values[i]\n",
        "        else:\n",
        "            sample_set.add(values[i])       \n",
        "    return -1\n",
        "\n",
        "values = (input(\"Enter numbers: \"))\n",
        "print(find_first_duplicate(values))"
      ],
      "metadata": {
        "id": "xjz4X2xqmUoj"
      },
      "execution_count": null,
      "outputs": []
    },
    {
      "cell_type": "code",
      "source": [
        "#10th Answer \n",
        "from datetime import date, timedelta\n",
        " \n",
        "year = int(input(\"Enter a year: \"))\n",
        "date_start = date(year, 1, 1)\n",
        "print(date_start)\n",
        "\n",
        "date_start += timedelta(days=7-date_start.isoweekday())\n",
        "\n",
        "while date_start.year == year:\n",
        "    print(date_start)\n",
        "    date_start += timedelta(days=7)"
      ],
      "metadata": {
        "id": "j-2kQUAcmZXy"
      },
      "execution_count": null,
      "outputs": []
    },
    {
      "cell_type": "code",
      "source": [
        "#3rd Answer \n",
        "def change_char (str1) :\n",
        "    replace_char = str1[0]\n",
        "    print(\"Character that need to be replaced:\",str1[0])\n",
        "    str1 = str1.replace (replace_char, '$')\n",
        "    str1 = replace_char + str1 [1 : ]\n",
        "    return str1\n",
        "\n",
        "print (change_char ('restart'))"
      ],
      "metadata": {
        "id": "tBASfjJGmhEM"
      },
      "execution_count": null,
      "outputs": []
    }
  ]
}