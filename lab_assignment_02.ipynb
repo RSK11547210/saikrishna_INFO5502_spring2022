{
  "cells": [
    {
      "cell_type": "markdown",
      "metadata": {
        "id": "view-in-github",
        "colab_type": "text"
      },
      "source": [
        "<a href=\"https://colab.research.google.com/github/RSK11547210/saikrishna_INFO5502_spring2022/blob/main/lab_assignment_02.ipynb\" target=\"_parent\"><img src=\"https://colab.research.google.com/assets/colab-badge.svg\" alt=\"Open In Colab\"/></a>"
      ]
    },
    {
      "cell_type": "markdown",
      "metadata": {
        "id": "Ryk8D1Q4Wsrp"
      },
      "source": [
        "# **The second Lab-assignment (02/04/2022, 50 points in total)**"
      ]
    },
    {
      "cell_type": "markdown",
      "metadata": {
        "id": "90_NR8c5XGWc"
      },
      "source": [
        "# Question 1\n",
        "\n",
        "(5 points). Write a Python program to generate 12 random numbers between 1 and 100. Sort the list of numbers in ascending order and print it out. Sort the list of numbers in descending order and print it out. Calculate the average for the group and print it out."
      ]
    },
    {
      "cell_type": "code",
      "execution_count": null,
      "metadata": {
        "colab": {
          "base_uri": "https://localhost:8080/"
        },
        "id": "5QX6bJjGWXY9",
        "outputId": "3a8fea7a-aa1b-4461-f80d-9bbc1a59f2fe"
      },
      "outputs": [
        {
          "output_type": "stream",
          "name": "stdout",
          "text": [
            "random list is: [91, 83, 83, 80, 80, 75, 59, 58, 48, 40, 31, 2]\n",
            "Ascending order is: [2, 31, 40, 48, 58, 59, 75, 80, 80, 83, 83, 91]\n",
            "desending order is: [91, 83, 83, 80, 80, 75, 59, 58, 48, 40, 31, 2]\n",
            "Group list is: [2, 31, 40, 48, 58, 59, 75, 80, 80, 83, 83, 91, 91, 83, 83, 80, 80, 75, 59, 58, 48, 40, 31, 2]\n",
            "Average for the group is: 60.833333333333336\n"
          ]
        }
      ],
      "source": [
        "# Your code here\n",
        "\n",
        "import random \n",
        "sample_lst=[]\n",
        "asc_lst=[]\n",
        "dsc_lst=[]\n",
        "group_lst=[]\n",
        "for i in range(0,12):\n",
        "    rnd_int=random.randint(1,100)\n",
        "    sample_lst.append(rnd_int)\n",
        "    Asc_lst=sample_lst.sort()\n",
        "    Dsc_lst=sample_lst.sort(reverse=True)\n",
        "    \n",
        "print(\"random list is:\", sample_lst)\n",
        "#Ascending Order\n",
        "sample_lst.sort()\n",
        "print(\"Ascending order is:\", sample_lst)\n",
        "for i in sample_lst:\n",
        "    asc_lst=list(sample_lst)\n",
        "    \n",
        "#Dscending order\n",
        "sample_lst.sort(reverse=True)\n",
        "print(\"desending order is:\", sample_lst)\n",
        "for i in sample_lst:\n",
        "    dsc_lst=list(sample_lst)\n",
        "\n",
        "#group list: \n",
        "group_lst =asc_lst + dsc_lst\n",
        "print(\"Group list is:\", group_lst)\n",
        "\n",
        "#Average of the group list:\n",
        "for i in range(len(group_lst)):\n",
        "    Average = sum(group_lst)/len(group_lst)\n",
        "\n",
        "print(\"Average for the group is:\", Average)"
      ]
    },
    {
      "cell_type": "markdown",
      "metadata": {
        "id": "1F_PZdH9Sh49"
      },
      "source": [
        "# Question 2\n",
        "(20 points). Write a program that will do the following string formatting tasks:\n",
        "\n",
        "(1) Ask the user to enter two sentences.\n",
        "\n",
        "(2) Make each sentence into a list. Each element in the list should correspond to a word in the sentence. For example, if the sentence is \"Alas! Am I alive? This is my first python program\", the program should print out ['Alas, '!', 'Am', 'I', 'alive, '?', 'This', 'is', 'my', 'first', 'python', 'program'].\n",
        "\n",
        "(3) Compare the two sentences. Print out a list of words that occur in both sentences.\n",
        "\n",
        "(4) Remove any punctuation from the sentence and print it back out. It should remove at least the following characters, but it can remove more: period(“.”), comma (“,”), semicolon (“;”), and colon (“:”)\n",
        "\n",
        "(5) Count the number of vowels in the sentences. Print out each vowel and the number of times it appears in the sentences, such as: a:2, e:1, i:0, etc"
      ]
    },
    {
      "cell_type": "code",
      "execution_count": null,
      "metadata": {
        "colab": {
          "base_uri": "https://localhost:8080/"
        },
        "id": "Y0oOSlsOS0cq",
        "outputId": "bafeca98-aad3-477f-d890-e5c69ee262a3"
      },
      "outputs": [
        {
          "output_type": "stream",
          "name": "stdout",
          "text": [
            "Enter string1:Alas! Am I alive?\n",
            "Enter string2:Alas! Am I alive? This is my first python program.\n",
            "list of string1:  ['Alas', '!', 'Am', 'I', 'alive', '?']\n",
            "list of string2:  ['Alas', '!', 'Am', 'I', 'alive', '?', 'This', 'is', 'my', 'first', 'python', 'program', '.']\n",
            " \n",
            "Below are the same words from both the strings:\n",
            "Alas\n",
            "!\n",
            "Am\n",
            "I\n",
            "alive\n",
            "?\n",
            "\n",
            "Below is the sentence after removing punctuation: \n",
            "Alas Am I alive \n",
            "\n",
            "Number of Vowels:  {'a': 5, 'i': 5, 'o': 2, 'e': 1, 'u': 0}\n"
          ]
        }
      ],
      "source": [
        "# Your code here\n",
        "\n",
        "import re\n",
        "\n",
        "string1=str(input(\"Enter string1:\"))\n",
        "string2=str(input(\"Enter string2:\"))\n",
        "\n",
        "str_list1=re.findall(r\"[\\w']+|[.,!?;:]\",string1)\n",
        "print(\"list of string1: \",str_list1)\n",
        "str_list2=re.findall(r\"[\\w']+|[.,!?;:]\",string2)\n",
        "print(\"list of string2: \",str_list2)\n",
        "print(\" \")\n",
        "print(\"Below are the same words from both the strings:\")\n",
        "for ele_str1 in str_list1:\n",
        "    for ele_str2 in str_list2:\n",
        "        if ele_str1.upper() == ele_str2.upper():\n",
        "            print(ele_str1)\n",
        "print(\"\")            \n",
        "import string\n",
        "\n",
        "print(\"Below is the sentence after removing punctuation: \")\n",
        "for ele_str1 in str_list1:\n",
        "    for ele_str2 in str_list2:\n",
        "        if ele_str1.upper() == ele_str2.upper() and ele_str2 not in string.punctuation:\n",
        "            print(ele_str1, end=\" \")\n",
        "            \n",
        "print(\"\\n\")\n",
        "import operator\n",
        "\n",
        "lowercase = string2.lower()\n",
        "vowel_counts2 = {}\n",
        "for vowel in \"aeiou\":\n",
        "    count2 = lowercase.count(vowel)\n",
        "    vowel_counts2[vowel] = count2\n",
        " \n",
        "sorted_vowels = dict(sorted(vowel_counts2.items(),key=operator.itemgetter(1),reverse=True))\n",
        "print(\"Number of Vowels: \", sorted_vowels)"
      ]
    },
    {
      "cell_type": "markdown",
      "metadata": {
        "id": "CmFoI4jDS9nx"
      },
      "source": [
        "# Question 3 \n",
        "\n",
        "(5 points). The formula that describes the volume V of a sphere with radius r is the following:\n",
        "\n",
        "$ V=\\frac{4}{3}\\ast\\ \\pi\\ast\\ r^3 $\n",
        "\n",
        "Write a program to calculate the value of V when r is in the range of 1–10. Output the result in the following format:\n",
        "\n",
        "\tr\tV\n",
        "\t1\t…\n",
        "\t2\t…\n",
        "\t3\t…\n"
      ]
    },
    {
      "cell_type": "code",
      "execution_count": 7,
      "metadata": {
        "colab": {
          "base_uri": "https://localhost:8080/"
        },
        "id": "pEyqeioAT95b",
        "outputId": "c1036e48-4583-448c-e066-4bc1e08bb7cd"
      },
      "outputs": [
        {
          "output_type": "stream",
          "name": "stdout",
          "text": [
            "r \t V\n",
            "1 \t 4.190476190476191\n",
            "2 \t 33.523809523809526\n",
            "3 \t 113.14285714285715\n",
            "4 \t 268.1904761904762\n",
            "5 \t 523.8095238095239\n",
            "6 \t 905.1428571428572\n",
            "7 \t 1437.3333333333335\n",
            "8 \t 2145.5238095238096\n",
            "9 \t 3054.857142857143\n"
          ]
        }
      ],
      "source": [
        "# Your code here\n",
        "print(\"r\",\"\\t\",\"V\")\n",
        "for r in range(1,10):\n",
        "    V= 4/3 * 22/7 * (r**3)\n",
        "    print(r,\"\\t\",  V)\n",
        "\n"
      ]
    },
    {
      "cell_type": "markdown",
      "metadata": {
        "id": "z3tBE7E-Xn5X"
      },
      "source": [
        "# Question 4\n",
        "\n",
        "(20 points). In the field of Data Science, data is often formatted as a comma-delimited (CSV) file, where each line in a file corresponds to a field's value. Refer to Chapter 9 (p. 106) for more information on comma-delimited files. To answer this question, you will need to download the file [lab_assignment_02_denton_housing.csv](https://raw.githubusercontent.com/unt-iialab/info5502-spring2022/main/datasets/lab_assignment_02_denton_housing.csv) included with this assignment. The file [lab_assignment_02_denton_housing.csv](https://raw.githubusercontent.com/unt-iialab/info5502-spring2022/main/datasets/lab_assignment_02_denton_housing.csv) contains statistics about housing in the city of Denton from 2008 to 2014. Write a program to implement the following questions.\n",
        "\n",
        "(1) (10 pts) Calculate the difference in the number of Occupied Housing Units from year to year and print it. The difference must be calculated for the consecutive years such as 2008-2009, 2009-2010 etc. Finally, print the values in the ascending order.\n",
        "\n",
        "(2) (10 pts) For all the years, calculate the percentage of housing units which are vacant an occupied. Print the results in the following format:\n",
        "\n",
        "Year Vacant Housing Units Occupied Housing Units\n",
        "\n",
        "    2008  30%   70%                          \n",
        "\t2009 ----- -----\n",
        "\t2010 ----- -----\n",
        "    2011 ----- -----\n",
        "\t2012 ----- -----\n",
        "    2013 ----- -----\n",
        "\t2014 ----- -----\n",
        "  \n",
        "  \n",
        "\n",
        "(3) (10 pts) Calculate and print the valued and years in which the highest number of housing units were vacant and occupied. Print the results in the following format:  \n",
        "\n",
        "                              Year\tValue\n",
        "\tVacant Housing Units\t  -----   -----\n",
        "\tOccupied Housing Units\t-----   -----\n",
        "\n",
        "(4) (10 pts) Calculate the harmonic mean of the total housing units and print it out. You can find the information about harmonic mean here: https://ncalculators.com/statistics/harmonic-mean-calculator.htm"
      ]
    },
    {
      "cell_type": "code",
      "execution_count": null,
      "metadata": {
        "colab": {
          "base_uri": "https://localhost:8080/"
        },
        "id": "lqGYuHBhcsRH",
        "outputId": "e15c8bb8-6115-43f8-8295-c514873c5ca6"
      },
      "outputs": [
        {
          "output_type": "stream",
          "name": "stdout",
          "text": [
            "44398.28543969185\n"
          ]
        }
      ],
      "source": [
        "# Your code here\n",
        "\n",
        "import pandas as pd\n",
        "housing_denton=pd.read_csv(\"/content/lab_assignment_02_denton_housing.csv\")\n",
        "\n",
        "#4)Answer--Harmonic mean\n",
        "import statistics\n",
        "print(statistics.harmonic_mean(list(housing_denton[housing_denton['title_field'] == 'Total Housing Units'].value)))\n",
        "\n"
      ]
    },
    {
      "cell_type": "code",
      "source": [
        "import pandas as pd\n",
        "df=pd.read_csv(\"lab_assignment_02_denton_housing.csv\")\n",
        "\n",
        "#4th question 1st Answer\n",
        "occupied_houses = df.loc[df['title_field'] == 'Occupied Housing Units'].sort_values('year', ascending=True)\n",
        "occupied_houses['Diff_value'] = occupied_houses['value'].diff()\n",
        "drop_idx = occupied_houses.reset_index(drop=True)\n",
        "occupied_houses\n",
        "drop_na=occupied_houses['Diff_value'].dropna()\n",
        "print(\"Ascending order of values:\",(sorted(drop_na)))\n",
        "\n",
        "#4) Answer\n",
        "import statistics\n",
        "print(statistics.harmonic_mean(list(df[df['title_field'] == 'Total Housing Units'].value)))"
      ],
      "metadata": {
        "colab": {
          "base_uri": "https://localhost:8080/"
        },
        "id": "3wrHNmRUY97l",
        "outputId": "21b5bdcc-fb3b-40fd-f9d8-ee5003112efc"
      },
      "execution_count": 6,
      "outputs": [
        {
          "output_type": "stream",
          "name": "stdout",
          "text": [
            "Ascending order of values: [-795.0, -303.0, 1404.0, 1565.0, 2622.0, 5091.0]\n",
            "44398.28543969185\n"
          ]
        }
      ]
    },
    {
      "cell_type": "code",
      "source": [
        "#4th question 3)Answer\n",
        "Max_Vacant=max(df.loc[df['title_field'] == 'Vacant Housing Units'].value)\n",
        "Max_Occupied=max(df.loc[df['title_field'] =='Occupied Housing Units'].value)\n",
        "Final_Vacant=df.loc[df['value'] == Max_Vacant]\n",
        "Final_Occupied=df.loc[df['value'] == Max_Occupied]\n",
        "columns_reorder=['title_field','year','value']\n",
        "Final_Vacant = Final_Vacant.reindex(columns=columns_reorder)\n",
        "Final_Occupied = Final_Occupied.reindex(columns=columns_reorder)\n",
        "\n",
        "Final_Output= pd.concat([Final_Vacant, Final_Occupied])\n",
        "Final_Output"
      ],
      "metadata": {
        "colab": {
          "base_uri": "https://localhost:8080/",
          "height": 112
        },
        "id": "UJ-jnwWsZZsL",
        "outputId": "e603a2b2-a5a3-4752-9794-f034b9e6deb1"
      },
      "execution_count": 3,
      "outputs": [
        {
          "output_type": "execute_result",
          "data": {
            "text/html": [
              "\n",
              "  <div id=\"df-0d9b76a9-f6d4-4d51-996d-ca3e38c8d0f6\">\n",
              "    <div class=\"colab-df-container\">\n",
              "      <div>\n",
              "<style scoped>\n",
              "    .dataframe tbody tr th:only-of-type {\n",
              "        vertical-align: middle;\n",
              "    }\n",
              "\n",
              "    .dataframe tbody tr th {\n",
              "        vertical-align: top;\n",
              "    }\n",
              "\n",
              "    .dataframe thead th {\n",
              "        text-align: right;\n",
              "    }\n",
              "</style>\n",
              "<table border=\"1\" class=\"dataframe\">\n",
              "  <thead>\n",
              "    <tr style=\"text-align: right;\">\n",
              "      <th></th>\n",
              "      <th>title_field</th>\n",
              "      <th>year</th>\n",
              "      <th>value</th>\n",
              "    </tr>\n",
              "  </thead>\n",
              "  <tbody>\n",
              "    <tr>\n",
              "      <th>19</th>\n",
              "      <td>Vacant Housing Units</td>\n",
              "      <td>2008</td>\n",
              "      <td>4483</td>\n",
              "    </tr>\n",
              "    <tr>\n",
              "      <th>2</th>\n",
              "      <td>Occupied Housing Units</td>\n",
              "      <td>2014</td>\n",
              "      <td>46295</td>\n",
              "    </tr>\n",
              "  </tbody>\n",
              "</table>\n",
              "</div>\n",
              "      <button class=\"colab-df-convert\" onclick=\"convertToInteractive('df-0d9b76a9-f6d4-4d51-996d-ca3e38c8d0f6')\"\n",
              "              title=\"Convert this dataframe to an interactive table.\"\n",
              "              style=\"display:none;\">\n",
              "        \n",
              "  <svg xmlns=\"http://www.w3.org/2000/svg\" height=\"24px\"viewBox=\"0 0 24 24\"\n",
              "       width=\"24px\">\n",
              "    <path d=\"M0 0h24v24H0V0z\" fill=\"none\"/>\n",
              "    <path d=\"M18.56 5.44l.94 2.06.94-2.06 2.06-.94-2.06-.94-.94-2.06-.94 2.06-2.06.94zm-11 1L8.5 8.5l.94-2.06 2.06-.94-2.06-.94L8.5 2.5l-.94 2.06-2.06.94zm10 10l.94 2.06.94-2.06 2.06-.94-2.06-.94-.94-2.06-.94 2.06-2.06.94z\"/><path d=\"M17.41 7.96l-1.37-1.37c-.4-.4-.92-.59-1.43-.59-.52 0-1.04.2-1.43.59L10.3 9.45l-7.72 7.72c-.78.78-.78 2.05 0 2.83L4 21.41c.39.39.9.59 1.41.59.51 0 1.02-.2 1.41-.59l7.78-7.78 2.81-2.81c.8-.78.8-2.07 0-2.86zM5.41 20L4 18.59l7.72-7.72 1.47 1.35L5.41 20z\"/>\n",
              "  </svg>\n",
              "      </button>\n",
              "      \n",
              "  <style>\n",
              "    .colab-df-container {\n",
              "      display:flex;\n",
              "      flex-wrap:wrap;\n",
              "      gap: 12px;\n",
              "    }\n",
              "\n",
              "    .colab-df-convert {\n",
              "      background-color: #E8F0FE;\n",
              "      border: none;\n",
              "      border-radius: 50%;\n",
              "      cursor: pointer;\n",
              "      display: none;\n",
              "      fill: #1967D2;\n",
              "      height: 32px;\n",
              "      padding: 0 0 0 0;\n",
              "      width: 32px;\n",
              "    }\n",
              "\n",
              "    .colab-df-convert:hover {\n",
              "      background-color: #E2EBFA;\n",
              "      box-shadow: 0px 1px 2px rgba(60, 64, 67, 0.3), 0px 1px 3px 1px rgba(60, 64, 67, 0.15);\n",
              "      fill: #174EA6;\n",
              "    }\n",
              "\n",
              "    [theme=dark] .colab-df-convert {\n",
              "      background-color: #3B4455;\n",
              "      fill: #D2E3FC;\n",
              "    }\n",
              "\n",
              "    [theme=dark] .colab-df-convert:hover {\n",
              "      background-color: #434B5C;\n",
              "      box-shadow: 0px 1px 3px 1px rgba(0, 0, 0, 0.15);\n",
              "      filter: drop-shadow(0px 1px 2px rgba(0, 0, 0, 0.3));\n",
              "      fill: #FFFFFF;\n",
              "    }\n",
              "  </style>\n",
              "\n",
              "      <script>\n",
              "        const buttonEl =\n",
              "          document.querySelector('#df-0d9b76a9-f6d4-4d51-996d-ca3e38c8d0f6 button.colab-df-convert');\n",
              "        buttonEl.style.display =\n",
              "          google.colab.kernel.accessAllowed ? 'block' : 'none';\n",
              "\n",
              "        async function convertToInteractive(key) {\n",
              "          const element = document.querySelector('#df-0d9b76a9-f6d4-4d51-996d-ca3e38c8d0f6');\n",
              "          const dataTable =\n",
              "            await google.colab.kernel.invokeFunction('convertToInteractive',\n",
              "                                                     [key], {});\n",
              "          if (!dataTable) return;\n",
              "\n",
              "          const docLinkHtml = 'Like what you see? Visit the ' +\n",
              "            '<a target=\"_blank\" href=https://colab.research.google.com/notebooks/data_table.ipynb>data table notebook</a>'\n",
              "            + ' to learn more about interactive tables.';\n",
              "          element.innerHTML = '';\n",
              "          dataTable['output_type'] = 'display_data';\n",
              "          await google.colab.output.renderOutput(dataTable, element);\n",
              "          const docLink = document.createElement('div');\n",
              "          docLink.innerHTML = docLinkHtml;\n",
              "          element.appendChild(docLink);\n",
              "        }\n",
              "      </script>\n",
              "    </div>\n",
              "  </div>\n",
              "  "
            ],
            "text/plain": [
              "               title_field  year  value\n",
              "19    Vacant Housing Units  2008   4483\n",
              "2   Occupied Housing Units  2014  46295"
            ]
          },
          "metadata": {},
          "execution_count": 3
        }
      ]
    },
    {
      "cell_type": "code",
      "source": [
        "#4th question 2) Answer\n",
        "yrs = sorted(list(df['year'].unique()))\n",
        "vcnt_units=df[df['title_field']=='Vacant Housing Units'].sort_values(by=['year'])\n",
        "occp_units=df[df['title_field']=='Occupied Housing Units'].sort_values(by=['year'])\n",
        "total_units=df[df['title_field']=='Total Housing Units'].sort_values(by=['year'])\n",
        "new_df=pd.DataFrame()\n",
        "new_df['year']=yrs\n",
        "new_df['Vacant Housing Units'] = vcnt_units['value'].values\n",
        "new_df['Occupied Housing Units'] = occp_units['value'].values\n",
        "new_df['Total Housing Units'] =total_units['value'].values\n",
        "new_df['Vacant Housing Unit Percent'] = new_df['Vacant Housing Units'] *100 /new_df['Total Housing Units']\n",
        "new_df['Occupied Housing Unit Percent'] = new_df['Occupied Housing Units'] *100 /new_df['Total Housing Units']\n",
        "\n",
        "Final_result = new_df.loc[:,['year', 'Vacant Housing Unit Percent', 'Occupied Housing Unit Percent']]\n",
        "Final_result"
      ],
      "metadata": {
        "colab": {
          "base_uri": "https://localhost:8080/",
          "height": 269
        },
        "id": "Hkd14OhqZibR",
        "outputId": "fd230d78-930d-4cb8-a335-3ef487c84834"
      },
      "execution_count": 5,
      "outputs": [
        {
          "output_type": "execute_result",
          "data": {
            "text/html": [
              "\n",
              "  <div id=\"df-82f8dbe0-cfd5-43e1-ae4d-933f219760dc\">\n",
              "    <div class=\"colab-df-container\">\n",
              "      <div>\n",
              "<style scoped>\n",
              "    .dataframe tbody tr th:only-of-type {\n",
              "        vertical-align: middle;\n",
              "    }\n",
              "\n",
              "    .dataframe tbody tr th {\n",
              "        vertical-align: top;\n",
              "    }\n",
              "\n",
              "    .dataframe thead th {\n",
              "        text-align: right;\n",
              "    }\n",
              "</style>\n",
              "<table border=\"1\" class=\"dataframe\">\n",
              "  <thead>\n",
              "    <tr style=\"text-align: right;\">\n",
              "      <th></th>\n",
              "      <th>year</th>\n",
              "      <th>Vacant Housing Unit Percent</th>\n",
              "      <th>Occupied Housing Unit Percent</th>\n",
              "    </tr>\n",
              "  </thead>\n",
              "  <tbody>\n",
              "    <tr>\n",
              "      <th>0</th>\n",
              "      <td>2008</td>\n",
              "      <td>10.882653</td>\n",
              "      <td>89.117347</td>\n",
              "    </tr>\n",
              "    <tr>\n",
              "      <th>1</th>\n",
              "      <td>2009</td>\n",
              "      <td>9.071116</td>\n",
              "      <td>90.928884</td>\n",
              "    </tr>\n",
              "    <tr>\n",
              "      <th>2</th>\n",
              "      <td>2010</td>\n",
              "      <td>8.142556</td>\n",
              "      <td>91.857444</td>\n",
              "    </tr>\n",
              "    <tr>\n",
              "      <th>3</th>\n",
              "      <td>2011</td>\n",
              "      <td>9.379522</td>\n",
              "      <td>90.620478</td>\n",
              "    </tr>\n",
              "    <tr>\n",
              "      <th>4</th>\n",
              "      <td>2012</td>\n",
              "      <td>6.677600</td>\n",
              "      <td>93.322400</td>\n",
              "    </tr>\n",
              "    <tr>\n",
              "      <th>5</th>\n",
              "      <td>2013</td>\n",
              "      <td>8.801788</td>\n",
              "      <td>91.198212</td>\n",
              "    </tr>\n",
              "    <tr>\n",
              "      <th>6</th>\n",
              "      <td>2014</td>\n",
              "      <td>5.730111</td>\n",
              "      <td>94.269889</td>\n",
              "    </tr>\n",
              "  </tbody>\n",
              "</table>\n",
              "</div>\n",
              "      <button class=\"colab-df-convert\" onclick=\"convertToInteractive('df-82f8dbe0-cfd5-43e1-ae4d-933f219760dc')\"\n",
              "              title=\"Convert this dataframe to an interactive table.\"\n",
              "              style=\"display:none;\">\n",
              "        \n",
              "  <svg xmlns=\"http://www.w3.org/2000/svg\" height=\"24px\"viewBox=\"0 0 24 24\"\n",
              "       width=\"24px\">\n",
              "    <path d=\"M0 0h24v24H0V0z\" fill=\"none\"/>\n",
              "    <path d=\"M18.56 5.44l.94 2.06.94-2.06 2.06-.94-2.06-.94-.94-2.06-.94 2.06-2.06.94zm-11 1L8.5 8.5l.94-2.06 2.06-.94-2.06-.94L8.5 2.5l-.94 2.06-2.06.94zm10 10l.94 2.06.94-2.06 2.06-.94-2.06-.94-.94-2.06-.94 2.06-2.06.94z\"/><path d=\"M17.41 7.96l-1.37-1.37c-.4-.4-.92-.59-1.43-.59-.52 0-1.04.2-1.43.59L10.3 9.45l-7.72 7.72c-.78.78-.78 2.05 0 2.83L4 21.41c.39.39.9.59 1.41.59.51 0 1.02-.2 1.41-.59l7.78-7.78 2.81-2.81c.8-.78.8-2.07 0-2.86zM5.41 20L4 18.59l7.72-7.72 1.47 1.35L5.41 20z\"/>\n",
              "  </svg>\n",
              "      </button>\n",
              "      \n",
              "  <style>\n",
              "    .colab-df-container {\n",
              "      display:flex;\n",
              "      flex-wrap:wrap;\n",
              "      gap: 12px;\n",
              "    }\n",
              "\n",
              "    .colab-df-convert {\n",
              "      background-color: #E8F0FE;\n",
              "      border: none;\n",
              "      border-radius: 50%;\n",
              "      cursor: pointer;\n",
              "      display: none;\n",
              "      fill: #1967D2;\n",
              "      height: 32px;\n",
              "      padding: 0 0 0 0;\n",
              "      width: 32px;\n",
              "    }\n",
              "\n",
              "    .colab-df-convert:hover {\n",
              "      background-color: #E2EBFA;\n",
              "      box-shadow: 0px 1px 2px rgba(60, 64, 67, 0.3), 0px 1px 3px 1px rgba(60, 64, 67, 0.15);\n",
              "      fill: #174EA6;\n",
              "    }\n",
              "\n",
              "    [theme=dark] .colab-df-convert {\n",
              "      background-color: #3B4455;\n",
              "      fill: #D2E3FC;\n",
              "    }\n",
              "\n",
              "    [theme=dark] .colab-df-convert:hover {\n",
              "      background-color: #434B5C;\n",
              "      box-shadow: 0px 1px 3px 1px rgba(0, 0, 0, 0.15);\n",
              "      filter: drop-shadow(0px 1px 2px rgba(0, 0, 0, 0.3));\n",
              "      fill: #FFFFFF;\n",
              "    }\n",
              "  </style>\n",
              "\n",
              "      <script>\n",
              "        const buttonEl =\n",
              "          document.querySelector('#df-82f8dbe0-cfd5-43e1-ae4d-933f219760dc button.colab-df-convert');\n",
              "        buttonEl.style.display =\n",
              "          google.colab.kernel.accessAllowed ? 'block' : 'none';\n",
              "\n",
              "        async function convertToInteractive(key) {\n",
              "          const element = document.querySelector('#df-82f8dbe0-cfd5-43e1-ae4d-933f219760dc');\n",
              "          const dataTable =\n",
              "            await google.colab.kernel.invokeFunction('convertToInteractive',\n",
              "                                                     [key], {});\n",
              "          if (!dataTable) return;\n",
              "\n",
              "          const docLinkHtml = 'Like what you see? Visit the ' +\n",
              "            '<a target=\"_blank\" href=https://colab.research.google.com/notebooks/data_table.ipynb>data table notebook</a>'\n",
              "            + ' to learn more about interactive tables.';\n",
              "          element.innerHTML = '';\n",
              "          dataTable['output_type'] = 'display_data';\n",
              "          await google.colab.output.renderOutput(dataTable, element);\n",
              "          const docLink = document.createElement('div');\n",
              "          docLink.innerHTML = docLinkHtml;\n",
              "          element.appendChild(docLink);\n",
              "        }\n",
              "      </script>\n",
              "    </div>\n",
              "  </div>\n",
              "  "
            ],
            "text/plain": [
              "   year  Vacant Housing Unit Percent  Occupied Housing Unit Percent\n",
              "0  2008                    10.882653                      89.117347\n",
              "1  2009                     9.071116                      90.928884\n",
              "2  2010                     8.142556                      91.857444\n",
              "3  2011                     9.379522                      90.620478\n",
              "4  2012                     6.677600                      93.322400\n",
              "5  2013                     8.801788                      91.198212\n",
              "6  2014                     5.730111                      94.269889"
            ]
          },
          "metadata": {},
          "execution_count": 5
        }
      ]
    }
  ],
  "metadata": {
    "colab": {
      "collapsed_sections": [],
      "name": "lab_assignment_02.ipynb",
      "provenance": [],
      "include_colab_link": true
    },
    "kernelspec": {
      "display_name": "Python 3 (ipykernel)",
      "language": "python",
      "name": "python3"
    },
    "language_info": {
      "codemirror_mode": {
        "name": "ipython",
        "version": 3
      },
      "file_extension": ".py",
      "mimetype": "text/x-python",
      "name": "python",
      "nbconvert_exporter": "python",
      "pygments_lexer": "ipython3",
      "version": "3.9.7"
    }
  },
  "nbformat": 4,
  "nbformat_minor": 0
}