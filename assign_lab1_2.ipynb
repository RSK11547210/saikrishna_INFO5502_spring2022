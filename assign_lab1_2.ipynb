{
  "nbformat": 4,
  "nbformat_minor": 0,
  "metadata": {
    "colab": {
      "name": "assign_lab1.2.ipynb",
      "provenance": [],
      "collapsed_sections": [],
      "authorship_tag": "ABX9TyOVW+7qyqaZ27KmWnPwqNyh",
      "include_colab_link": true
    },
    "kernelspec": {
      "name": "python3",
      "display_name": "Python 3"
    },
    "language_info": {
      "name": "python"
    }
  },
  "cells": [
    {
      "cell_type": "markdown",
      "metadata": {
        "id": "view-in-github",
        "colab_type": "text"
      },
      "source": [
        "<a href=\"https://colab.research.google.com/github/RSK11547210/saikrishna_INFO5502_spring2022/blob/main/assign_lab1_2.ipynb\" target=\"_parent\"><img src=\"https://colab.research.google.com/assets/colab-badge.svg\" alt=\"Open In Colab\"/></a>"
      ]
    },
    {
      "cell_type": "code",
      "execution_count": 1,
      "metadata": {
        "id": "xoFNLyUCkt_r",
        "colab": {
          "base_uri": "https://localhost:8080/"
        },
        "outputId": "1b3c7af5-0949-46ed-979a-90319ad7505e"
      },
      "outputs": [
        {
          "output_type": "stream",
          "name": "stdout",
          "text": [
            "Occurances of character in a string are: {'g': 2, 'o': 3, 'l': 1, 'e': 1, '.': 1, 'c': 1, 'm': 1}\n"
          ]
        }
      ],
      "source": [
        "#1st answer \n",
        "sample_str = \"google.com\"\n",
        "#empty Dictonary\n",
        "char_rept = {}\n",
        "\n",
        "#if a element is already present then it's value is incremented by one otherwise it was set to one.\n",
        "for i in sample_str:\n",
        "    if i in char_rept:\n",
        "        char_rept[i] =char_rept[i] + 1\n",
        "    else:\n",
        "        char_rept[i] = 1\n",
        "#printing the output        \n",
        "print(\"Occurances of character in a string are: \" + str(char_rept))"
      ]
    },
    {
      "cell_type": "code",
      "source": [
        "#2nd Answer\n",
        "sample_list = [1,2,3,4,5,6]\n",
        "\n",
        "sum_sample = sum(sample_list)\n",
        "print(sum_sample)"
      ],
      "metadata": {
        "id": "ikZW0qJGk7pU",
        "colab": {
          "base_uri": "https://localhost:8080/"
        },
        "outputId": "d7dad5ee-8a27-487f-dd8f-c670f75d1e5c"
      },
      "execution_count": 2,
      "outputs": [
        {
          "output_type": "stream",
          "name": "stdout",
          "text": [
            "21\n"
          ]
        }
      ]
    },
    {
      "cell_type": "code",
      "source": [
        "#4th Answer\n",
        "a = int(input(\"Enter value 'a': \"))\n",
        "b = int(input(\"Enter value 'b': \")) \n",
        "\n",
        "S = 3.14 * (1 + a/b)**3\n",
        "print(S)"
      ],
      "metadata": {
        "id": "s0kaCmPSlaUh",
        "colab": {
          "base_uri": "https://localhost:8080/"
        },
        "outputId": "ec0b519d-883d-4082-d957-61a05d1bf9aa"
      },
      "execution_count": 3,
      "outputs": [
        {
          "output_type": "stream",
          "name": "stdout",
          "text": [
            "Enter value 'a': 4\n",
            "Enter value 'b': 2\n",
            "84.78\n"
          ]
        }
      ]
    },
    {
      "cell_type": "code",
      "source": [
        "#5th Answer\n",
        "dic1={1:10, 2:20}\n",
        "dic2={3:30, 4:40}\n",
        "dic3={5:50, 6:60}\n",
        "\n",
        "dic4={}\n",
        "dic4.update(dic1)\n",
        "dic4.update(dic2)\n",
        "dic4.update(dic3)\n",
        "\n",
        "print(dic4)"
      ],
      "metadata": {
        "id": "zs4Bzn5umBvS",
        "colab": {
          "base_uri": "https://localhost:8080/"
        },
        "outputId": "fe3f5b0c-6663-4525-ef6d-c348bc6e172e"
      },
      "execution_count": 4,
      "outputs": [
        {
          "output_type": "stream",
          "name": "stdout",
          "text": [
            "{1: 10, 2: 20, 3: 30, 4: 40, 5: 50, 6: 60}\n"
          ]
        }
      ]
    },
    {
      "cell_type": "code",
      "source": [
        "#6th Answer \n",
        "sample_tuple = (1,2,3,4,5,'a','b','c','d','e')\n",
        "a= len(sample_tuple)\n",
        "check_element = input(\"Enter a number or alphabet to check if it exists in a tuple: \")\n",
        "\n",
        "for i in range(1,a):\n",
        "    if check_element in sample_tuple:\n",
        "        print(\"Element exist:\",True)\n",
        "        break\n",
        "    else:\n",
        "        print(\"Element doesnt't exist so, Try again!!!!\")\n",
        "        check_element = input(\"Enter a number or alphabet to check if it exists in a tuple: \")"
      ],
      "metadata": {
        "id": "Ms2Oj9rvmGgR",
        "colab": {
          "base_uri": "https://localhost:8080/"
        },
        "outputId": "505c0e41-954d-4ca6-e6aa-6d54a42ab3e8"
      },
      "execution_count": 5,
      "outputs": [
        {
          "output_type": "stream",
          "name": "stdout",
          "text": [
            "Enter a number or alphabet to check if it exists in a tuple: a\n",
            "Element exist: True\n"
          ]
        }
      ]
    },
    {
      "cell_type": "code",
      "source": [
        "#7th answer \n",
        "sample_set = {10,20,30,40,50}\n",
        "\n",
        "max_sample = max(sample_set)\n",
        "print(\"Maximum value in the given set:\", max_sample)\n",
        "\n",
        "min_sample = min(sample_set)\n",
        "print(\"Maximum value in the given set:\", min_sample)"
      ],
      "metadata": {
        "id": "r_kTOM8gmLnX",
        "colab": {
          "base_uri": "https://localhost:8080/"
        },
        "outputId": "f46f6806-461d-4bfa-9814-0269df6cf074"
      },
      "execution_count": 6,
      "outputs": [
        {
          "output_type": "stream",
          "name": "stdout",
          "text": [
            "Maximum value in the given set: 50\n",
            "Maximum value in the given set: 10\n"
          ]
        }
      ]
    },
    {
      "cell_type": "code",
      "source": [
        "#8th Answer \n",
        "# write your answer here\n",
        "studnet_list = ['ja0964','sa1198','sb1357','vb0218','sc1229','kg0569','kg0470','sg1297','bg0320','fh0141','jl1252','sk1386',\n",
        "           'ak0956','sk1390','sk1458','sk1313','ak0934','vm0377','nm0618','sm1640','sm1907','gn0108','pr0353','dr0609','ms1500','aos0040','ds0814', 'av0659','nv0234','hy0232']\n",
        "\n",
        "studnet_list1=set(studnet_list)\n",
        "updated_list=list(studnet_list1)\n",
        "group1=studnet_list[:5:]\n",
        "group2=studnet_list[5:10:]\n",
        "group3=studnet_list[10:15:]\n",
        "group4=studnet_list[15:20:]\n",
        "group5=studnet_list[20:25:]\n",
        "group6=studnet_list[25:30:]\n",
        "\n",
        "print(group1)\n",
        "print(group2)\n",
        "print(group3)\n",
        "print(group4)\n",
        "print(group5)\n",
        "print(group6)"
      ],
      "metadata": {
        "id": "ol82bRTHmQMJ",
        "colab": {
          "base_uri": "https://localhost:8080/"
        },
        "outputId": "60f9619e-0b77-4f22-bc67-3aa4d476ffa1"
      },
      "execution_count": 11,
      "outputs": [
        {
          "output_type": "stream",
          "name": "stdout",
          "text": [
            "['ja0964', 'sa1198', 'sb1357', 'vb0218', 'sc1229']\n",
            "['kg0569', 'kg0470', 'sg1297', 'bg0320', 'fh0141']\n",
            "['jl1252', 'sk1386', 'ak0956', 'sk1390', 'sk1458']\n",
            "['sk1313', 'ak0934', 'vm0377', 'nm0618', 'sm1640']\n",
            "['sm1907', 'gn0108', 'pr0353', 'dr0609', 'ms1500']\n",
            "['aos0040', 'ds0814', 'av0659', 'nv0234', 'hy0232']\n"
          ]
        }
      ]
    },
    {
      "cell_type": "code",
      "source": [
        "#9th Answer \n",
        "def find_first_duplicate(values):\n",
        "    sample_set = set()\n",
        "    \n",
        "    for i in range(len(values)):\n",
        "        if values[i] in sample_set:\n",
        "           return values[i]\n",
        "           print(\"duplicate value:\", values[i])\n",
        "        else:\n",
        "            sample_set.add(values[i])       \n",
        "    return -1\n",
        "\n",
        "values = (input(\"Enter numbers: \"))\n",
        "print(find_first_duplicate(values))"
      ],
      "metadata": {
        "id": "xjz4X2xqmUoj",
        "colab": {
          "base_uri": "https://localhost:8080/"
        },
        "outputId": "b8cedda0-2ad6-44ee-9585-2ea9e30db930"
      },
      "execution_count": 15,
      "outputs": [
        {
          "output_type": "stream",
          "name": "stdout",
          "text": [
            "Enter numbers: 12345\n",
            "-1\n"
          ]
        }
      ]
    },
    {
      "cell_type": "code",
      "source": [
        "#10th Answer \n",
        "from datetime import date, timedelta\n",
        " \n",
        "year = int(input(\"Enter a year: \"))\n",
        "date_start = date(year, 1, 1)\n",
        "print(date_start)\n",
        "\n",
        "date_start += timedelta(days=7-date_start.isoweekday())\n",
        "\n",
        "while date_start.year == year:\n",
        "    print(date_start)\n",
        "    date_start += timedelta(days=7)"
      ],
      "metadata": {
        "id": "j-2kQUAcmZXy",
        "colab": {
          "base_uri": "https://localhost:8080/"
        },
        "outputId": "88c4a4d1-1178-466a-9ca2-36a64bb19e9b"
      },
      "execution_count": 8,
      "outputs": [
        {
          "output_type": "stream",
          "name": "stdout",
          "text": [
            "Enter a year: 2022\n",
            "2022-01-01\n",
            "2022-01-02\n",
            "2022-01-09\n",
            "2022-01-16\n",
            "2022-01-23\n",
            "2022-01-30\n",
            "2022-02-06\n",
            "2022-02-13\n",
            "2022-02-20\n",
            "2022-02-27\n",
            "2022-03-06\n",
            "2022-03-13\n",
            "2022-03-20\n",
            "2022-03-27\n",
            "2022-04-03\n",
            "2022-04-10\n",
            "2022-04-17\n",
            "2022-04-24\n",
            "2022-05-01\n",
            "2022-05-08\n",
            "2022-05-15\n",
            "2022-05-22\n",
            "2022-05-29\n",
            "2022-06-05\n",
            "2022-06-12\n",
            "2022-06-19\n",
            "2022-06-26\n",
            "2022-07-03\n",
            "2022-07-10\n",
            "2022-07-17\n",
            "2022-07-24\n",
            "2022-07-31\n",
            "2022-08-07\n",
            "2022-08-14\n",
            "2022-08-21\n",
            "2022-08-28\n",
            "2022-09-04\n",
            "2022-09-11\n",
            "2022-09-18\n",
            "2022-09-25\n",
            "2022-10-02\n",
            "2022-10-09\n",
            "2022-10-16\n",
            "2022-10-23\n",
            "2022-10-30\n",
            "2022-11-06\n",
            "2022-11-13\n",
            "2022-11-20\n",
            "2022-11-27\n",
            "2022-12-04\n",
            "2022-12-11\n",
            "2022-12-18\n",
            "2022-12-25\n"
          ]
        }
      ]
    },
    {
      "cell_type": "code",
      "source": [
        "#3rd Answer \n",
        "def change_char (str1) :\n",
        "    replace_char = str1[0]\n",
        "    print(\"Character that need to be replaced:\",str1[0])\n",
        "    str1 = str1.replace (replace_char, '$')\n",
        "    str1 = replace_char + str1 [1 : ]\n",
        "    return str1\n",
        "\n",
        "print (change_char ('restart'))"
      ],
      "metadata": {
        "id": "tBASfjJGmhEM",
        "colab": {
          "base_uri": "https://localhost:8080/"
        },
        "outputId": "423ae68b-ea84-495d-d125-b46df278867e"
      },
      "execution_count": 9,
      "outputs": [
        {
          "output_type": "stream",
          "name": "stdout",
          "text": [
            "Character that need to be replaced: r\n",
            "resta$t\n"
          ]
        }
      ]
    }
  ]
}